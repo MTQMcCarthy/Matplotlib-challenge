{
 "cells": [
  {
   "cell_type": "markdown",
   "metadata": {},
   "source": [
    "## Observations and Insights"
   ]
  },
  {
   "cell_type": "markdown",
   "metadata": {},
   "source": [
    "## Dependencies and starter code"
   ]
  },
  {
   "cell_type": "code",
   "execution_count": null,
   "metadata": {},
   "outputs": [],
   "source": [
    "%matplotlib inline"
   ]
  },
  {
   "cell_type": "code",
   "execution_count": null,
   "metadata": {},
   "outputs": [],
   "source": [
    "# Dependencies and Setup\n",
    "import matplotlib.pyplot as plt\n",
    "import pandas as pd\n",
    "import scipy.stats as st\n",
    "import numpy as np\n",
    "import os\n",
    "\n",
    "# Study data files\n",
    "mouse_metadata = \"data/Mouse_metadata.csv\"\n",
    "study_results = \"data/Study_results.csv\"\n",
    "\n",
    "# Read the mouse data and the study results\n",
    "mouse_metadata = pd.read_csv(mouse_metadata)\n",
    "study_results = pd.read_csv(study_results)\n",
    "\n",
    "# Combine the data into a single dataset\n",
    "combined_results_data = pd.merge(mouse_metadata, study_results, on=\"Mouse ID\")\n",
    "\n",
    "#rename columns for ease of use\n",
    "combined_results_data = combined_results_data.rename(columns={\"Drug Regimen\":\"Drug\",\n",
    "                                                              \"Age_months\":\"Age (months)\",\n",
    "                                                              \"Tumor Volume (mm3)\":\"Tumor Volume\"})\n",
    "\n",
    "#with TA and class help, group by Drug and Timepoint, then find overall values for Tumor Volume. This is much cleaner than\n",
    "#individually completing these operations in their own cells\n",
    "meanTumorVol_df = combined_results_data.groupby([\"Drug\", \"Timepoint\"]).mean()[\"Tumor Volume\"]\n",
    "medianTumorVol_df = combined_results_data.groupby([\"Drug\", \"Timepoint\"]).median()[\"Tumor Volume\"]\n",
    "variTumorVol_df = combined_results_data.groupby([\"Drug\", \"Timepoint\"]).var()[\"Tumor Volume\"]\n",
    "stdTumorVol_df = combined_results_data.groupby([\"Drug\", \"Timepoint\"]).std()[\"Tumor Volume\"]\n",
    "semTumorVol_df = combined_results_data.groupby([\"Drug\", \"Timepoint\"]).sem()[\"Tumor Volume\"]\n",
    "\n",
    "#create another new dataframe\n",
    "overall_sum_df = pd.DataFrame({\"Mean\": meanTumorVol_df,\n",
    "                                 \"Median\": medianTumorVol_df,\n",
    "                                 \"Variance\": variTumorVol_df,\n",
    "                                 \"Standard Deviation\": stdTumorVol_df,\n",
    "                                 \"Standard Error\": semTumorVol_df})\n",
    "\n",
    "overall_sum_df"
   ]
  },
  {
   "cell_type": "code",
   "execution_count": null,
   "metadata": {},
   "outputs": [],
   "source": [
    "#store unique value in a variable \n",
    "uniqueMice = combined_results_data[\"Mouse ID\"].nunique()\n",
    "#print(\"there are\",[uniqueMice],\"unique mice\")\n",
    "\n",
    "uniqueDrug = combined_results_data[\"Drug\"].nunique()\n",
    "#print(\"there are\",[uniqueDrug],\"unique drugs\")"
   ]
  },
  {
   "cell_type": "code",
   "execution_count": null,
   "metadata": {},
   "outputs": [],
   "source": [
    "#group data by Gender\n",
    "genderStats = combined_results_data.groupby(\"Sex\")\n",
    "\n",
    "#count total drugs by gender\n",
    "totalCountGender = genderStats.nunique()[\"Drug\"]\n",
    "totalCountGender.head()"
   ]
  },
  {
   "cell_type": "code",
   "execution_count": null,
   "metadata": {},
   "outputs": [],
   "source": [
    "# Store the Mean Tumor Volume Data Grouped by Drug and Timepoint \n",
    "sex_df = combined_results_data.groupby([\"Drug\"]).count()[\"Sex\"]\n",
    "\n",
    "# Convert to DataFrame\n",
    "sex_df = pd.DataFrame(sex_df)\n",
    "#meanTumorVol_df = meanTumorVol_df.rename(columns={\"Tumor Volume\": \"Mean for Tumor Volume\"})\n",
    "\n",
    "# Preview DataFrame\n",
    "sex_df"
   ]
  },
  {
   "cell_type": "markdown",
   "metadata": {},
   "source": [
    "## Bar plots"
   ]
  },
  {
   "cell_type": "code",
   "execution_count": null,
   "metadata": {},
   "outputs": [],
   "source": [
    "# Generate a bar plot showing number of data points for each treatment regimen using pyplot\n",
    "# Filter the DataFrame down only to those columns to chart\n",
    "drug_and_volume = meanTumorVol_df\n",
    "\n",
    "drug_and_volume"
   ]
  },
  {
   "cell_type": "code",
   "execution_count": null,
   "metadata": {},
   "outputs": [],
   "source": [
    "#set up a dataframe with the Mean and Median columns \n",
    "summary_bar = overall_sum_df[[\"Mean\", \"Median\"]]\n",
    "\n",
    "#use df.plot() in order to create a bar chart of the data\n",
    "summary_bar.plot(kind=\"bar\", figsize=(20,5))\n",
    "\n",
    "#format the bar chart\n",
    "plt.title(\"Tumor Volume by Drug\")\n",
    "plt.xlabel(\"Drug at time point\")\n",
    "plt.ylabel(\"Tumor Volume\")\n",
    "plt.tight_layout()\n",
    "plt.show()\n",
    "\n",
    "#save the image\n",
    "#plt.savefig(\"..images/pyBarTumorVol.png\")"
   ]
  },
  {
   "cell_type": "code",
   "execution_count": null,
   "metadata": {},
   "outputs": [],
   "source": [
    "# Set x axis and tick locations\n",
    "x_axis = np.arange(len(overall_sum_df))\n",
    "tick_locations = [value for value in x_axis]\n",
    "\n",
    "# Create a list indicating where to write x labels and set figure size to adjust for space recipe\n",
    "plt.figure(figsize=(20,3))\n",
    "plt.bar(x_axis, overall_sum_df[\"Mean\"], color='g', alpha=0.5, align=\"center\")\n",
    "plt.xticks(tick_locations, uniqueDrug[\"Drug\"], rotation=\"vertical\")\n",
    "\n",
    "\n",
    "# Set x and y limits recipe\n",
    "plt.xlim(-.75, len(x_axis))\n",
    "plt.ylim(0, max(overall_sum_df[\"Mean\"])+10)\n",
    "\n",
    "#further formatting\n",
    "plt.title(\"Mean Tumor Volume per Drug\")\n",
    "plt.xlabel(\"Drug per timepoint\")\n",
    "plt.ylabel(\"Mean tumor volume\")\n",
    "plt.tight_layout()\n",
    "plt.savefig(\"..images/pyBarTumorVol.png\")\n",
    "plt.show"
   ]
  },
  {
   "cell_type": "code",
   "execution_count": null,
   "metadata": {},
   "outputs": [],
   "source": [
    "# Generate a bar plot showing number of data points for each treatment regimen using pandas \n",
    "drug_and_volume = combined_results_data[[\"Timepoint\",\"Drug\", \"Tumor Volume\"]]\n",
    "\n",
    "#set the index to Drug so it can be used as the label\n",
    "drug_and_volume = drug_and_volume.set_index(\"Drug\")\n",
    "drug_and_volume.head()\n"
   ]
  },
  {
   "cell_type": "code",
   "execution_count": null,
   "metadata": {},
   "outputs": [],
   "source": [
    "#use dataframe.plt() to create the bar chart \n",
    "drug_and_volume.plot(kind=\"bar\", figsize=(20,3))\n",
    "\n",
    "#set the context for the chart\n",
    "plt.title(\"Mean Tumor Volume per Drug\")\n",
    "plt.xlabel(\"Drug per timepoint\")\n",
    "plt.ylabel(\"Mean tumor volume\")\n",
    "plt.show()\n",
    "plt.tight_layout()"
   ]
  },
  {
   "cell_type": "code",
   "execution_count": null,
   "metadata": {},
   "outputs": [],
   "source": [
    "multi_plot = drug_and_volume.plot(kind=\"bar\", figsize=(20,3))\n",
    "multi_plot.set_xticklabels(drug_and_volume.iloc[:,0], rotation=45)\n",
    "\n",
    "plt.show()\n",
    "plt.tight_layout()"
   ]
  },
  {
   "cell_type": "markdown",
   "metadata": {},
   "source": [
    "## Pie plots"
   ]
  },
  {
   "cell_type": "code",
   "execution_count": null,
   "metadata": {},
   "outputs": [],
   "source": [
    "#miceGender = combined_data_results\n",
    "totalCountGender \n",
    "# Labels for the sections of our pie chart\n",
    "labels = [\"Male\", \"Female\"]\n",
    "\n",
    "# The colors of each section of the pie chart\n",
    "colors = [\"lightcoral\", \"lightskyblue\"]"
   ]
  },
  {
   "cell_type": "code",
   "execution_count": null,
   "metadata": {},
   "outputs": [],
   "source": [
    "# Generate a pie plot showing the distribution of female versus male mice using pandas\n",
    "plt.title(\"Mice gender\")\n",
    "plt.pie(totalCountGender, labels=labels, colors=colors,\n",
    "        autopct=\"%1.1f%%\", shadow=True, startangle=90)\n",
    "plt.savefig(\"../Images/PandaMice.png\")\n",
    "plt.axis(\"equal\")\n",
    "plt.show()"
   ]
  },
  {
   "cell_type": "code",
   "execution_count": null,
   "metadata": {},
   "outputs": [],
   "source": [
    "# Generate a pie plot showing the distribution of female versus male mice using pyplot\n",
    "df = pd.DataFrame(totalCountGender)\n",
    "plot = df.plot.pie(y='Sex', figsize=(5, 5))\n",
    "plt.savefig(\"../Images/PyMice.png\")"
   ]
  },
  {
   "cell_type": "markdown",
   "metadata": {},
   "source": [
    "## Quartiles, outliers and boxplots"
   ]
  },
  {
   "cell_type": "code",
   "execution_count": null,
   "metadata": {},
   "outputs": [],
   "source": [
    "# Calculate the final tumor volume of each mouse across four of the most promising treatment regimens. \n",
    "#Calculate the IQR and quantitatively determine if there are any potential outliers. \n",
    "# Store the variance Tumor Volume Data Grouped by Drug and Timepoint \n",
    "maxTumorVol_df = combined_results_data.groupby([\"Timepoint\"]).max()[\"Tumor Volume\"]\n",
    "\n",
    "# Convert to DataFrame\n",
    "maxTumorVol_df = pd.DataFrame(maxTumorVol_df)\n",
    "\n",
    "# Preview DataFrame\n",
    "maxTumorVol_df"
   ]
  },
  {
   "cell_type": "code",
   "execution_count": null,
   "metadata": {},
   "outputs": [],
   "source": [
    "# Generate a box plot of the final tumor volume of each mouse across four regimens of interest\n"
   ]
  },
  {
   "cell_type": "markdown",
   "metadata": {},
   "source": [
    "## Line and scatter plots"
   ]
  },
  {
   "cell_type": "code",
   "execution_count": null,
   "metadata": {},
   "outputs": [],
   "source": [
    "# Generate a line plot of time point versus tumor volume for a mouse treated with Capomulin\n",
    "#create the dataframe\n",
    "timeTumor = combined_results_data[combined_results_data[\"Drug\"] == 'Capomulin']\n",
    "timeTumor"
   ]
  },
  {
   "cell_type": "code",
   "execution_count": null,
   "metadata": {},
   "outputs": [],
   "source": [
    "timeTumorCap = timeTumor.iloc[:,[False, False, False, False, False, True, True, False]]\n",
    "timeTumorCap"
   ]
  },
  {
   "cell_type": "code",
   "execution_count": null,
   "metadata": {},
   "outputs": [],
   "source": [
    "#set the x axis\n",
    "x_axis = np.arange(len(timeTumorCap))\n",
    "y_axis = timeTumorCap[\"Tumor Volume\"]"
   ]
  },
  {
   "cell_type": "code",
   "execution_count": null,
   "metadata": {},
   "outputs": [],
   "source": [
    "# Create labels for the X and Y axis\n",
    "plt.xlabel(\"Timepoint\")\n",
    "plt.ylabel(\"Tumor Volume\")\n",
    "\n",
    "# Have to plot our chart once again as it doesn't stick after being shown\n",
    "plt.plot(x_axis, y_axis)\n",
    "plt.show()"
   ]
  },
  {
   "cell_type": "code",
   "execution_count": null,
   "metadata": {},
   "outputs": [],
   "source": [
    "# Generate a scatter plot of mouse weight versus average tumor volume for the Capomulin regimen\n",
    "weightTumorCap = timeTumor.iloc[:,[False, False, False, False, True, False, True, False]]\n",
    "weightTumorCap"
   ]
  },
  {
   "cell_type": "code",
   "execution_count": null,
   "metadata": {},
   "outputs": [],
   "source": [
    "# Scatter Plot of Data\n",
    "x_values = weightTumorCap.iloc[:,[True,False]]\n",
    "y_values = weightTumorCap.iloc[:,[False,True]]\n",
    "#y_values = weightTumorCap['Tumor Volume']\n",
    "year = weightTumorCap.iloc[:,0]\n",
    "violent_crime_rate = crime_data.iloc[:,3]\n",
    "plt.scatter(year,violent_crime_rate)\n",
    "plt.xticks(year, rotation=90)\n",
    "plt.scatter(x_values,y_values)\n",
    "plt.legend()"
   ]
  },
  {
   "cell_type": "code",
   "execution_count": null,
   "metadata": {},
   "outputs": [],
   "source": [
    "# Calculate the correlation coefficient and linear regression model for mouse weight and average \n",
    "#tumor volume for the Capomulin regimen\n",
    "print(f\"The correlation coefficient between mouse weight and average tumor volume is {round(st.pearsonr(weight,tumor volume)[0],2)}\")"
   ]
  },
  {
   "cell_type": "code",
   "execution_count": null,
   "metadata": {},
   "outputs": [],
   "source": []
  }
 ],
 "metadata": {
  "anaconda-cloud": {},
  "kernelspec": {
   "display_name": "Python 3",
   "language": "python",
   "name": "python3"
  },
  "language_info": {
   "codemirror_mode": {
    "name": "ipython",
    "version": 3
   },
   "file_extension": ".py",
   "mimetype": "text/x-python",
   "name": "python",
   "nbconvert_exporter": "python",
   "pygments_lexer": "ipython3",
   "version": "3.7.4"
  }
 },
 "nbformat": 4,
 "nbformat_minor": 2
}
