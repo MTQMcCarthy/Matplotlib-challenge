{
 "cells": [
  {
   "cell_type": "markdown",
   "metadata": {},
   "source": [
    "## Observations and Insights"
   ]
  },
  {
   "cell_type": "markdown",
   "metadata": {},
   "source": [
    "## Dependencies and starter code"
   ]
  },
  {
   "cell_type": "code",
   "execution_count": 1,
   "metadata": {},
   "outputs": [],
   "source": [
    "%matplotlib inline"
   ]
  },
  {
   "cell_type": "code",
   "execution_count": 2,
   "metadata": {},
   "outputs": [
    {
     "data": {
      "text/html": [
       "<div>\n",
       "<style scoped>\n",
       "    .dataframe tbody tr th:only-of-type {\n",
       "        vertical-align: middle;\n",
       "    }\n",
       "\n",
       "    .dataframe tbody tr th {\n",
       "        vertical-align: top;\n",
       "    }\n",
       "\n",
       "    .dataframe thead th {\n",
       "        text-align: right;\n",
       "    }\n",
       "</style>\n",
       "<table border=\"1\" class=\"dataframe\">\n",
       "  <thead>\n",
       "    <tr style=\"text-align: right;\">\n",
       "      <th></th>\n",
       "      <th>Mouse ID</th>\n",
       "      <th>Drug</th>\n",
       "      <th>Sex</th>\n",
       "      <th>Age (months)</th>\n",
       "      <th>Weight (g)</th>\n",
       "      <th>Timepoint</th>\n",
       "      <th>Tumor Volume</th>\n",
       "      <th>Metastatic Sites</th>\n",
       "    </tr>\n",
       "  </thead>\n",
       "  <tbody>\n",
       "    <tr>\n",
       "      <td>0</td>\n",
       "      <td>k403</td>\n",
       "      <td>Ramicane</td>\n",
       "      <td>Male</td>\n",
       "      <td>21</td>\n",
       "      <td>16</td>\n",
       "      <td>0</td>\n",
       "      <td>45.000000</td>\n",
       "      <td>0</td>\n",
       "    </tr>\n",
       "    <tr>\n",
       "      <td>1</td>\n",
       "      <td>k403</td>\n",
       "      <td>Ramicane</td>\n",
       "      <td>Male</td>\n",
       "      <td>21</td>\n",
       "      <td>16</td>\n",
       "      <td>5</td>\n",
       "      <td>38.825898</td>\n",
       "      <td>0</td>\n",
       "    </tr>\n",
       "    <tr>\n",
       "      <td>2</td>\n",
       "      <td>k403</td>\n",
       "      <td>Ramicane</td>\n",
       "      <td>Male</td>\n",
       "      <td>21</td>\n",
       "      <td>16</td>\n",
       "      <td>10</td>\n",
       "      <td>35.014271</td>\n",
       "      <td>1</td>\n",
       "    </tr>\n",
       "    <tr>\n",
       "      <td>3</td>\n",
       "      <td>k403</td>\n",
       "      <td>Ramicane</td>\n",
       "      <td>Male</td>\n",
       "      <td>21</td>\n",
       "      <td>16</td>\n",
       "      <td>15</td>\n",
       "      <td>34.223992</td>\n",
       "      <td>1</td>\n",
       "    </tr>\n",
       "    <tr>\n",
       "      <td>4</td>\n",
       "      <td>k403</td>\n",
       "      <td>Ramicane</td>\n",
       "      <td>Male</td>\n",
       "      <td>21</td>\n",
       "      <td>16</td>\n",
       "      <td>20</td>\n",
       "      <td>32.997729</td>\n",
       "      <td>1</td>\n",
       "    </tr>\n",
       "  </tbody>\n",
       "</table>\n",
       "</div>"
      ],
      "text/plain": [
       "  Mouse ID      Drug   Sex  Age (months)  Weight (g)  Timepoint  Tumor Volume  \\\n",
       "0     k403  Ramicane  Male            21          16          0     45.000000   \n",
       "1     k403  Ramicane  Male            21          16          5     38.825898   \n",
       "2     k403  Ramicane  Male            21          16         10     35.014271   \n",
       "3     k403  Ramicane  Male            21          16         15     34.223992   \n",
       "4     k403  Ramicane  Male            21          16         20     32.997729   \n",
       "\n",
       "   Metastatic Sites  \n",
       "0                 0  \n",
       "1                 0  \n",
       "2                 1  \n",
       "3                 1  \n",
       "4                 1  "
      ]
     },
     "execution_count": 2,
     "metadata": {},
     "output_type": "execute_result"
    }
   ],
   "source": [
    "# Dependencies and Setup\n",
    "import matplotlib.pyplot as plt\n",
    "import pandas as pd\n",
    "import scipy.stats as st\n",
    "import numpy as np\n",
    "\n",
    "# Study data files\n",
    "mouse_metadata = \"data/Mouse_metadata.csv\"\n",
    "study_results = \"data/Study_results.csv\"\n",
    "\n",
    "# Read the mouse data and the study results\n",
    "mouse_metadata = pd.read_csv(mouse_metadata)\n",
    "study_results = pd.read_csv(study_results)\n",
    "\n",
    "# Combine the data into a single dataset\n",
    "combined_results_data = pd.merge(mouse_metadata, study_results, on=\"Mouse ID\")\n",
    "\n",
    "##rename columns for ease of use\n",
    "combined_results_data = combined_results_data.rename(columns={\"Drug Regimen\":\"Drug\",\n",
    "                                                              \"Age_months\":\"Age (months)\",\n",
    "                                                              \"Tumor Volume (mm3)\":\"Tumor Volume\"})\n",
    "combined_results_data.head()"
   ]
  },
  {
   "cell_type": "code",
   "execution_count": 38,
   "metadata": {},
   "outputs": [
    {
     "name": "stdout",
     "output_type": "stream",
     "text": [
      "there are [249] unique mice\n",
      "there are [10] unique drugs\n"
     ]
    }
   ],
   "source": [
    "#store unique value in a variable \n",
    "uniqueMice = combined_results_data[\"Mouse ID\"].nunique()\n",
    "#print(\"there are\",[uniqueMice],\"unique mice\")\n",
    "uniqueDrug = combined_results_data[\"Drug\"].nunique()\n",
    "#print(\"there are\",[uniqueDrug],\"unique drugs\")"
   ]
  },
  {
   "cell_type": "code",
   "execution_count": 34,
   "metadata": {},
   "outputs": [
    {
     "data": {
      "text/plain": [
       "Sex\n",
       "Female    10\n",
       "Male      10\n",
       "Name: Drug, dtype: int64"
      ]
     },
     "execution_count": 34,
     "metadata": {},
     "output_type": "execute_result"
    }
   ],
   "source": [
    "#group data by Gender\n",
    "genderStats = combined_results_data.groupby(\"Sex\")\n",
    "\n",
    "#count total drugs by gender\n",
    "totalCountGender = genderStats.nunique()[\"Drug\"]\n",
    "totalCountGender.head()"
   ]
  },
  {
   "cell_type": "code",
   "execution_count": 35,
   "metadata": {},
   "outputs": [
    {
     "name": "stdout",
     "output_type": "stream",
     "text": [
      "[Sex\n",
      "Female    4.016064\n",
      "Male      4.016064\n",
      "Name: Drug, dtype: float64]\n"
     ]
    }
   ],
   "source": [
    "#Total count by gender then divivde by total players \n",
    "patientPercentage = totalCountGender / uniqueMice * 100\n",
    "print([patientPercentage])\n",
    "#create data frame \n",
    "#genderDemographics = pd.DataFrame({\"Percentage of Players\": playerPercentage, \"Total Count\": totalCountGender})\n",
    "\n",
    "#format the data frame with no index name \n",
    "#genderDemographics.index.name = None\n",
    "\n",
    "#format the values sorted by total count in descending order, and two decimal places for the percentage\n",
    "#genderDemographics.sort_values([\"Total Count\"], ascending = False).style.format({\"Percentage of Players\":\"{:.2f}\"})"
   ]
  },
  {
   "cell_type": "markdown",
   "metadata": {},
   "source": [
    "## Summary statistics"
   ]
  },
  {
   "cell_type": "code",
   "execution_count": 40,
   "metadata": {},
   "outputs": [
    {
     "data": {
      "text/html": [
       "<div>\n",
       "<style scoped>\n",
       "    .dataframe tbody tr th:only-of-type {\n",
       "        vertical-align: middle;\n",
       "    }\n",
       "\n",
       "    .dataframe tbody tr th {\n",
       "        vertical-align: top;\n",
       "    }\n",
       "\n",
       "    .dataframe thead th {\n",
       "        text-align: right;\n",
       "    }\n",
       "</style>\n",
       "<table border=\"1\" class=\"dataframe\">\n",
       "  <thead>\n",
       "    <tr style=\"text-align: right;\">\n",
       "      <th></th>\n",
       "      <th>Sex</th>\n",
       "    </tr>\n",
       "    <tr>\n",
       "      <th>Drug</th>\n",
       "      <th></th>\n",
       "    </tr>\n",
       "  </thead>\n",
       "  <tbody>\n",
       "    <tr>\n",
       "      <td>Capomulin</td>\n",
       "      <td>230</td>\n",
       "    </tr>\n",
       "    <tr>\n",
       "      <td>Ceftamin</td>\n",
       "      <td>178</td>\n",
       "    </tr>\n",
       "    <tr>\n",
       "      <td>Infubinol</td>\n",
       "      <td>178</td>\n",
       "    </tr>\n",
       "    <tr>\n",
       "      <td>Ketapril</td>\n",
       "      <td>188</td>\n",
       "    </tr>\n",
       "    <tr>\n",
       "      <td>Naftisol</td>\n",
       "      <td>186</td>\n",
       "    </tr>\n",
       "    <tr>\n",
       "      <td>Placebo</td>\n",
       "      <td>181</td>\n",
       "    </tr>\n",
       "    <tr>\n",
       "      <td>Propriva</td>\n",
       "      <td>161</td>\n",
       "    </tr>\n",
       "    <tr>\n",
       "      <td>Ramicane</td>\n",
       "      <td>228</td>\n",
       "    </tr>\n",
       "    <tr>\n",
       "      <td>Stelasyn</td>\n",
       "      <td>181</td>\n",
       "    </tr>\n",
       "    <tr>\n",
       "      <td>Zoniferol</td>\n",
       "      <td>182</td>\n",
       "    </tr>\n",
       "  </tbody>\n",
       "</table>\n",
       "</div>"
      ],
      "text/plain": [
       "           Sex\n",
       "Drug          \n",
       "Capomulin  230\n",
       "Ceftamin   178\n",
       "Infubinol  178\n",
       "Ketapril   188\n",
       "Naftisol   186\n",
       "Placebo    181\n",
       "Propriva   161\n",
       "Ramicane   228\n",
       "Stelasyn   181\n",
       "Zoniferol  182"
      ]
     },
     "execution_count": 40,
     "metadata": {},
     "output_type": "execute_result"
    }
   ],
   "source": [
    "# Store the Mean Tumor Volume Data Grouped by Drug and Timepoint \n",
    "sex_df = combined_results_data.groupby([\"Drug\"]).count()[\"Sex\"]\n",
    "\n",
    "# Convert to DataFrame\n",
    "sex_df = pd.DataFrame(sex_df)\n",
    "#meanTumorVol_df = meanTumorVol_df.rename(columns={\"Tumor Volume\": \"Mean for Tumor Volume\"})\n",
    "\n",
    "# Preview DataFrame\n",
    "sex_df"
   ]
  },
  {
   "cell_type": "code",
   "execution_count": 3,
   "metadata": {},
   "outputs": [
    {
     "data": {
      "text/html": [
       "<div>\n",
       "<style scoped>\n",
       "    .dataframe tbody tr th:only-of-type {\n",
       "        vertical-align: middle;\n",
       "    }\n",
       "\n",
       "    .dataframe tbody tr th {\n",
       "        vertical-align: top;\n",
       "    }\n",
       "\n",
       "    .dataframe thead th {\n",
       "        text-align: right;\n",
       "    }\n",
       "</style>\n",
       "<table border=\"1\" class=\"dataframe\">\n",
       "  <thead>\n",
       "    <tr style=\"text-align: right;\">\n",
       "      <th></th>\n",
       "      <th></th>\n",
       "      <th>Mean for Tumor Volume</th>\n",
       "    </tr>\n",
       "    <tr>\n",
       "      <th>Drug</th>\n",
       "      <th>Timepoint</th>\n",
       "      <th></th>\n",
       "    </tr>\n",
       "  </thead>\n",
       "  <tbody>\n",
       "    <tr>\n",
       "      <td rowspan=\"5\" valign=\"top\">Capomulin</td>\n",
       "      <td>0</td>\n",
       "      <td>45.000000</td>\n",
       "    </tr>\n",
       "    <tr>\n",
       "      <td>5</td>\n",
       "      <td>44.266086</td>\n",
       "    </tr>\n",
       "    <tr>\n",
       "      <td>10</td>\n",
       "      <td>43.084291</td>\n",
       "    </tr>\n",
       "    <tr>\n",
       "      <td>15</td>\n",
       "      <td>42.064317</td>\n",
       "    </tr>\n",
       "    <tr>\n",
       "      <td>20</td>\n",
       "      <td>40.716325</td>\n",
       "    </tr>\n",
       "    <tr>\n",
       "      <td>...</td>\n",
       "      <td>...</td>\n",
       "      <td>...</td>\n",
       "    </tr>\n",
       "    <tr>\n",
       "      <td rowspan=\"5\" valign=\"top\">Zoniferol</td>\n",
       "      <td>25</td>\n",
       "      <td>55.432935</td>\n",
       "    </tr>\n",
       "    <tr>\n",
       "      <td>30</td>\n",
       "      <td>57.713531</td>\n",
       "    </tr>\n",
       "    <tr>\n",
       "      <td>35</td>\n",
       "      <td>60.089372</td>\n",
       "    </tr>\n",
       "    <tr>\n",
       "      <td>40</td>\n",
       "      <td>62.916692</td>\n",
       "    </tr>\n",
       "    <tr>\n",
       "      <td>45</td>\n",
       "      <td>65.960888</td>\n",
       "    </tr>\n",
       "  </tbody>\n",
       "</table>\n",
       "<p>100 rows × 1 columns</p>\n",
       "</div>"
      ],
      "text/plain": [
       "                     Mean for Tumor Volume\n",
       "Drug      Timepoint                       \n",
       "Capomulin 0                      45.000000\n",
       "          5                      44.266086\n",
       "          10                     43.084291\n",
       "          15                     42.064317\n",
       "          20                     40.716325\n",
       "...                                    ...\n",
       "Zoniferol 25                     55.432935\n",
       "          30                     57.713531\n",
       "          35                     60.089372\n",
       "          40                     62.916692\n",
       "          45                     65.960888\n",
       "\n",
       "[100 rows x 1 columns]"
      ]
     },
     "execution_count": 3,
     "metadata": {},
     "output_type": "execute_result"
    }
   ],
   "source": [
    "# Store the Mean Tumor Volume Data Grouped by Drug and Timepoint \n",
    "meanTumorVol_df = combined_results_data.groupby([\"Drug\", \"Timepoint\"]).mean()[\"Tumor Volume\"]\n",
    "\n",
    "# Convert to DataFrame\n",
    "meanTumorVol_df = pd.DataFrame(meanTumorVol_df)\n",
    "meanTumorVol_df = meanTumorVol_df.rename(columns={\"Tumor Volume\": \"Mean for Tumor Volume\"})\n",
    "\n",
    "# Preview DataFrame\n",
    "meanTumorVol_df"
   ]
  },
  {
   "cell_type": "code",
   "execution_count": 4,
   "metadata": {},
   "outputs": [
    {
     "data": {
      "text/html": [
       "<div>\n",
       "<style scoped>\n",
       "    .dataframe tbody tr th:only-of-type {\n",
       "        vertical-align: middle;\n",
       "    }\n",
       "\n",
       "    .dataframe tbody tr th {\n",
       "        vertical-align: top;\n",
       "    }\n",
       "\n",
       "    .dataframe thead th {\n",
       "        text-align: right;\n",
       "    }\n",
       "</style>\n",
       "<table border=\"1\" class=\"dataframe\">\n",
       "  <thead>\n",
       "    <tr style=\"text-align: right;\">\n",
       "      <th></th>\n",
       "      <th></th>\n",
       "      <th>Median for Tumor Volume</th>\n",
       "    </tr>\n",
       "    <tr>\n",
       "      <th>Drug</th>\n",
       "      <th>Timepoint</th>\n",
       "      <th></th>\n",
       "    </tr>\n",
       "  </thead>\n",
       "  <tbody>\n",
       "    <tr>\n",
       "      <td rowspan=\"5\" valign=\"top\">Capomulin</td>\n",
       "      <td>0</td>\n",
       "      <td>45.000000</td>\n",
       "    </tr>\n",
       "    <tr>\n",
       "      <td>5</td>\n",
       "      <td>45.597064</td>\n",
       "    </tr>\n",
       "    <tr>\n",
       "      <td>10</td>\n",
       "      <td>43.421014</td>\n",
       "    </tr>\n",
       "    <tr>\n",
       "      <td>15</td>\n",
       "      <td>42.798160</td>\n",
       "    </tr>\n",
       "    <tr>\n",
       "      <td>20</td>\n",
       "      <td>40.716428</td>\n",
       "    </tr>\n",
       "    <tr>\n",
       "      <td>...</td>\n",
       "      <td>...</td>\n",
       "      <td>...</td>\n",
       "    </tr>\n",
       "    <tr>\n",
       "      <td rowspan=\"5\" valign=\"top\">Zoniferol</td>\n",
       "      <td>25</td>\n",
       "      <td>55.676604</td>\n",
       "    </tr>\n",
       "    <tr>\n",
       "      <td>30</td>\n",
       "      <td>57.419744</td>\n",
       "    </tr>\n",
       "    <tr>\n",
       "      <td>35</td>\n",
       "      <td>60.365832</td>\n",
       "    </tr>\n",
       "    <tr>\n",
       "      <td>40</td>\n",
       "      <td>62.274543</td>\n",
       "    </tr>\n",
       "    <tr>\n",
       "      <td>45</td>\n",
       "      <td>65.684689</td>\n",
       "    </tr>\n",
       "  </tbody>\n",
       "</table>\n",
       "<p>100 rows × 1 columns</p>\n",
       "</div>"
      ],
      "text/plain": [
       "                     Median for Tumor Volume\n",
       "Drug      Timepoint                         \n",
       "Capomulin 0                        45.000000\n",
       "          5                        45.597064\n",
       "          10                       43.421014\n",
       "          15                       42.798160\n",
       "          20                       40.716428\n",
       "...                                      ...\n",
       "Zoniferol 25                       55.676604\n",
       "          30                       57.419744\n",
       "          35                       60.365832\n",
       "          40                       62.274543\n",
       "          45                       65.684689\n",
       "\n",
       "[100 rows x 1 columns]"
      ]
     },
     "execution_count": 4,
     "metadata": {},
     "output_type": "execute_result"
    }
   ],
   "source": [
    "# Generate a summary statistics table of mean, median, variance, standard deviation, and SEM of \n",
    "#the tumor volume for each regimen\n",
    "medTumorVol_df = combined_results_data.groupby([\"Drug\", \"Timepoint\"]).median()[\"Tumor Volume\"]\n",
    "\n",
    "# Convert to DataFrame\n",
    "medTumorVol_df = pd.DataFrame(medTumorVol_df)\n",
    "medTumorVol_df = medTumorVol_df.rename(columns={\"Tumor Volume\": \"Median for Tumor Volume\"})\n",
    "\n",
    "# Preview DataFrame\n",
    "medTumorVol_df"
   ]
  },
  {
   "cell_type": "code",
   "execution_count": null,
   "metadata": {},
   "outputs": [],
   "source": [
    "# Store the median Tumor Volume Data Grouped by Drug and Timepoint \n",
    "variTumorVol_df = combined_results_data.groupby([\"Drug\", \"Timepoint\"]).var()[\"Tumor Volume\"]\n",
    "\n",
    "# Convert to DataFrame\n",
    "variTumorVol_df = pd.DataFrame(variTumorVol_df)\n",
    "variTumorVol_df = variTumorVol_df.rename(columns={\"Tumor Volume\": \"Variance for Tumor Volume\"})\n",
    "\n",
    "# Preview DataFrame\n",
    "variTumorVol_df"
   ]
  },
  {
   "cell_type": "code",
   "execution_count": 5,
   "metadata": {},
   "outputs": [
    {
     "data": {
      "text/html": [
       "<div>\n",
       "<style scoped>\n",
       "    .dataframe tbody tr th:only-of-type {\n",
       "        vertical-align: middle;\n",
       "    }\n",
       "\n",
       "    .dataframe tbody tr th {\n",
       "        vertical-align: top;\n",
       "    }\n",
       "\n",
       "    .dataframe thead th {\n",
       "        text-align: right;\n",
       "    }\n",
       "</style>\n",
       "<table border=\"1\" class=\"dataframe\">\n",
       "  <thead>\n",
       "    <tr style=\"text-align: right;\">\n",
       "      <th></th>\n",
       "      <th></th>\n",
       "      <th>SEM for Tumor Volume</th>\n",
       "    </tr>\n",
       "    <tr>\n",
       "      <th>Drug</th>\n",
       "      <th>Timepoint</th>\n",
       "      <th></th>\n",
       "    </tr>\n",
       "  </thead>\n",
       "  <tbody>\n",
       "    <tr>\n",
       "      <td rowspan=\"5\" valign=\"top\">Capomulin</td>\n",
       "      <td>0</td>\n",
       "      <td>0.000000</td>\n",
       "    </tr>\n",
       "    <tr>\n",
       "      <td>5</td>\n",
       "      <td>0.448593</td>\n",
       "    </tr>\n",
       "    <tr>\n",
       "      <td>10</td>\n",
       "      <td>0.702684</td>\n",
       "    </tr>\n",
       "    <tr>\n",
       "      <td>15</td>\n",
       "      <td>0.838617</td>\n",
       "    </tr>\n",
       "    <tr>\n",
       "      <td>20</td>\n",
       "      <td>0.909731</td>\n",
       "    </tr>\n",
       "    <tr>\n",
       "      <td>...</td>\n",
       "      <td>...</td>\n",
       "      <td>...</td>\n",
       "    </tr>\n",
       "    <tr>\n",
       "      <td rowspan=\"5\" valign=\"top\">Zoniferol</td>\n",
       "      <td>25</td>\n",
       "      <td>0.602513</td>\n",
       "    </tr>\n",
       "    <tr>\n",
       "      <td>30</td>\n",
       "      <td>0.800043</td>\n",
       "    </tr>\n",
       "    <tr>\n",
       "      <td>35</td>\n",
       "      <td>0.881426</td>\n",
       "    </tr>\n",
       "    <tr>\n",
       "      <td>40</td>\n",
       "      <td>0.998515</td>\n",
       "    </tr>\n",
       "    <tr>\n",
       "      <td>45</td>\n",
       "      <td>1.003576</td>\n",
       "    </tr>\n",
       "  </tbody>\n",
       "</table>\n",
       "<p>100 rows × 1 columns</p>\n",
       "</div>"
      ],
      "text/plain": [
       "                     SEM for Tumor Volume\n",
       "Drug      Timepoint                      \n",
       "Capomulin 0                      0.000000\n",
       "          5                      0.448593\n",
       "          10                     0.702684\n",
       "          15                     0.838617\n",
       "          20                     0.909731\n",
       "...                                   ...\n",
       "Zoniferol 25                     0.602513\n",
       "          30                     0.800043\n",
       "          35                     0.881426\n",
       "          40                     0.998515\n",
       "          45                     1.003576\n",
       "\n",
       "[100 rows x 1 columns]"
      ]
     },
     "execution_count": 5,
     "metadata": {},
     "output_type": "execute_result"
    }
   ],
   "source": [
    "semTumorVol_df = combined_results_data.groupby([\"Drug\", \"Timepoint\"]).sem()[\"Tumor Volume\"]\n",
    "\n",
    "# Convert to DataFrame\n",
    "semTumorVol_df = pd.DataFrame(semTumorVol_df)\n",
    "semTumorVol_df = semTumorVol_df.rename(columns={\"Tumor Volume\": \"SEM for Tumor Volume\"})\n",
    "\n",
    "# Preview DataFrame\n",
    "semTumorVol_df"
   ]
  },
  {
   "cell_type": "markdown",
   "metadata": {},
   "source": [
    "## Bar plots"
   ]
  },
  {
   "cell_type": "code",
   "execution_count": 6,
   "metadata": {},
   "outputs": [
    {
     "data": {
      "text/html": [
       "<div>\n",
       "<style scoped>\n",
       "    .dataframe tbody tr th:only-of-type {\n",
       "        vertical-align: middle;\n",
       "    }\n",
       "\n",
       "    .dataframe tbody tr th {\n",
       "        vertical-align: top;\n",
       "    }\n",
       "\n",
       "    .dataframe thead th {\n",
       "        text-align: right;\n",
       "    }\n",
       "</style>\n",
       "<table border=\"1\" class=\"dataframe\">\n",
       "  <thead>\n",
       "    <tr style=\"text-align: right;\">\n",
       "      <th></th>\n",
       "      <th></th>\n",
       "      <th>Mean for Tumor Volume</th>\n",
       "    </tr>\n",
       "    <tr>\n",
       "      <th>Drug</th>\n",
       "      <th>Timepoint</th>\n",
       "      <th></th>\n",
       "    </tr>\n",
       "  </thead>\n",
       "  <tbody>\n",
       "    <tr>\n",
       "      <td rowspan=\"5\" valign=\"top\">Capomulin</td>\n",
       "      <td>0</td>\n",
       "      <td>45.000000</td>\n",
       "    </tr>\n",
       "    <tr>\n",
       "      <td>5</td>\n",
       "      <td>44.266086</td>\n",
       "    </tr>\n",
       "    <tr>\n",
       "      <td>10</td>\n",
       "      <td>43.084291</td>\n",
       "    </tr>\n",
       "    <tr>\n",
       "      <td>15</td>\n",
       "      <td>42.064317</td>\n",
       "    </tr>\n",
       "    <tr>\n",
       "      <td>20</td>\n",
       "      <td>40.716325</td>\n",
       "    </tr>\n",
       "    <tr>\n",
       "      <td>...</td>\n",
       "      <td>...</td>\n",
       "      <td>...</td>\n",
       "    </tr>\n",
       "    <tr>\n",
       "      <td rowspan=\"5\" valign=\"top\">Zoniferol</td>\n",
       "      <td>25</td>\n",
       "      <td>55.432935</td>\n",
       "    </tr>\n",
       "    <tr>\n",
       "      <td>30</td>\n",
       "      <td>57.713531</td>\n",
       "    </tr>\n",
       "    <tr>\n",
       "      <td>35</td>\n",
       "      <td>60.089372</td>\n",
       "    </tr>\n",
       "    <tr>\n",
       "      <td>40</td>\n",
       "      <td>62.916692</td>\n",
       "    </tr>\n",
       "    <tr>\n",
       "      <td>45</td>\n",
       "      <td>65.960888</td>\n",
       "    </tr>\n",
       "  </tbody>\n",
       "</table>\n",
       "<p>100 rows × 1 columns</p>\n",
       "</div>"
      ],
      "text/plain": [
       "                     Mean for Tumor Volume\n",
       "Drug      Timepoint                       \n",
       "Capomulin 0                      45.000000\n",
       "          5                      44.266086\n",
       "          10                     43.084291\n",
       "          15                     42.064317\n",
       "          20                     40.716325\n",
       "...                                    ...\n",
       "Zoniferol 25                     55.432935\n",
       "          30                     57.713531\n",
       "          35                     60.089372\n",
       "          40                     62.916692\n",
       "          45                     65.960888\n",
       "\n",
       "[100 rows x 1 columns]"
      ]
     },
     "execution_count": 6,
     "metadata": {},
     "output_type": "execute_result"
    }
   ],
   "source": [
    "# Generate a bar plot showing number of data points for each treatment regimen using pyplot\n",
    "# Filter the DataFrame down only to those columns to chart\n",
    "drug_and_volume = meanTumorVol_df\n",
    "#drug_and_volume = combined_results_data[[\"Timepoint\", \"Drug\", \"Tumor Volume\"]]\n",
    "#drug_and_volume = combined_results_data.groupby([\"Drug\", \"Timepoint\"]).mean(\"Tumor Volume\")\n",
    "# Set the index to be \"Drug\" so they will be used as labels\n",
    "#drug_and_volume = drug_and_volume.set_index(\"Drug\", drop=False)\n",
    "drug_and_volume"
   ]
  },
  {
   "cell_type": "code",
   "execution_count": null,
   "metadata": {},
   "outputs": [],
   "source": [
    "# Sets the x limits of the current chart\n",
    "plt.xlim(-0.75, len(x_axis)-0.25)"
   ]
  },
  {
   "cell_type": "code",
   "execution_count": 7,
   "metadata": {},
   "outputs": [
    {
     "data": {
      "text/plain": [
       "<function matplotlib.pyplot.show(*args, **kw)>"
      ]
     },
     "execution_count": 7,
     "metadata": {},
     "output_type": "execute_result"
    },
    {
     "data": {
      "image/png": "[encoded data removed]",
      "text/plain": [
       "<Figure size 432x288 with 1 Axes>"
      ]
     },
     "metadata": {
      "needs_background": "light"
     },
     "output_type": "display_data"
    }
   ],
   "source": [
    "# Set x axis and tick locations\n",
    "x_axis = np.arange(0, len(drug_and_volume))\n",
    "tick_locations = [value for value in x_axis]\n",
    "\n",
    "#tick_locations = [value for value in x_axis]\n",
    "#plt.xticks(tick_locations, [\"Drug\"])\n",
    "\n",
    "#x_axis = np.arange(len(drug_and_volume[\"Drug\"]))\n",
    "#x_axis\n",
    "\n",
    "# Create a list indicating where to write x labels and set figure size to adjust for space\n",
    "plt.figure\n",
    "plt.bar(x_axis, drug_and_volume[\"Mean for Tumor Volume\"], color='r', alpha=0.5, align=\"center\")\n",
    "plt.xticks(tick_locations, drug_and_volume.iloc[:,0], rotation=\"vertical\")\n",
    "plt.title(\"Mean Tumor Volume per Drug\")\n",
    "plt.xlabel(\"Drug per timepoint\")\n",
    "plt.ylabel(\"Mean tumor volume\")\n",
    "plt.tight_layout()\n",
    "#plt.savefig(\"..images/pyBarTumorVol.png\")\n",
    "plt.show"
   ]
  },
  {
   "cell_type": "code",
   "execution_count": null,
   "metadata": {},
   "outputs": [],
   "source": [
    "#determine how many main groups there should be\n",
    "#drug_group = combined_results_data.groupby(\"Drug\")\n",
    "#count_drugs = drug_group[\"Drug\"].count()\n",
    "#count_drugs\n",
    "combined_results_data[\"Drug\"].unique()"
   ]
  },
  {
   "cell_type": "code",
   "execution_count": 8,
   "metadata": {},
   "outputs": [
    {
     "data": {
      "text/html": [
       "<div>\n",
       "<style scoped>\n",
       "    .dataframe tbody tr th:only-of-type {\n",
       "        vertical-align: middle;\n",
       "    }\n",
       "\n",
       "    .dataframe tbody tr th {\n",
       "        vertical-align: top;\n",
       "    }\n",
       "\n",
       "    .dataframe thead th {\n",
       "        text-align: right;\n",
       "    }\n",
       "</style>\n",
       "<table border=\"1\" class=\"dataframe\">\n",
       "  <thead>\n",
       "    <tr style=\"text-align: right;\">\n",
       "      <th></th>\n",
       "      <th>Timepoint</th>\n",
       "      <th>Tumor Volume</th>\n",
       "    </tr>\n",
       "    <tr>\n",
       "      <th>Drug</th>\n",
       "      <th></th>\n",
       "      <th></th>\n",
       "    </tr>\n",
       "  </thead>\n",
       "  <tbody>\n",
       "    <tr>\n",
       "      <td>Ramicane</td>\n",
       "      <td>0</td>\n",
       "      <td>45.000000</td>\n",
       "    </tr>\n",
       "    <tr>\n",
       "      <td>Ramicane</td>\n",
       "      <td>5</td>\n",
       "      <td>38.825898</td>\n",
       "    </tr>\n",
       "    <tr>\n",
       "      <td>Ramicane</td>\n",
       "      <td>10</td>\n",
       "      <td>35.014271</td>\n",
       "    </tr>\n",
       "    <tr>\n",
       "      <td>Ramicane</td>\n",
       "      <td>15</td>\n",
       "      <td>34.223992</td>\n",
       "    </tr>\n",
       "    <tr>\n",
       "      <td>Ramicane</td>\n",
       "      <td>20</td>\n",
       "      <td>32.997729</td>\n",
       "    </tr>\n",
       "  </tbody>\n",
       "</table>\n",
       "</div>"
      ],
      "text/plain": [
       "          Timepoint  Tumor Volume\n",
       "Drug                             \n",
       "Ramicane          0     45.000000\n",
       "Ramicane          5     38.825898\n",
       "Ramicane         10     35.014271\n",
       "Ramicane         15     34.223992\n",
       "Ramicane         20     32.997729"
      ]
     },
     "execution_count": 8,
     "metadata": {},
     "output_type": "execute_result"
    }
   ],
   "source": [
    "# Generate a bar plot showing number of data points for each treatment regimen using pandas \n",
    "drug_and_volume = combined_results_data[[\"Timepoint\",\"Drug\", \"Tumor Volume\"]]\n",
    "\n",
    "#set the index to Drug so it can be used as the label\n",
    "drug_and_volume = drug_and_volume.set_index(\"Drug\")\n",
    "drug_and_volume.head()\n"
   ]
  },
  {
   "cell_type": "code",
   "execution_count": null,
   "metadata": {},
   "outputs": [],
   "source": [
    "#use dataframe.plt() to create the bar chart \n",
    "drug_and_volume.plot(kind=\"bar\", figsize=(20,3))\n",
    "\n",
    "#set the context for the chart\n",
    "plt.title(\"Mean Tumor Volume per Drug\")\n",
    "plt.xlabel(\"Drug per timepoint\")\n",
    "plt.ylabel(\"Mean tumor volume\")\n",
    "plt.show()\n",
    "plt.tight_layout()"
   ]
  },
  {
   "cell_type": "code",
   "execution_count": 9,
   "metadata": {},
   "outputs": [
    {
     "data": {
      "image/png": "[encoded data removed]",
      "text/plain": [
       "<Figure size 1440x216 with 1 Axes>"
      ]
     },
     "metadata": {
      "needs_background": "light"
     },
     "output_type": "display_data"
    },
    {
     "data": {
      "text/plain": [
       "<Figure size 432x288 with 0 Axes>"
      ]
     },
     "metadata": {},
     "output_type": "display_data"
    }
   ],
   "source": [
    "multi_plot = drug_and_volume.plot(kind=\"bar\", figsize=(20,3))\n",
    "multi_plot.set_xticklabels(drug_and_volume.iloc[:,0], rotation=45)\n",
    "\n",
    "plt.show()\n",
    "plt.tight_layout()"
   ]
  },
  {
   "cell_type": "markdown",
   "metadata": {},
   "source": [
    "## Pie plots"
   ]
  },
  {
   "cell_type": "code",
   "execution_count": 10,
   "metadata": {},
   "outputs": [
    {
     "ename": "SyntaxError",
     "evalue": "invalid syntax (<ipython-input-10-78913dc01270>, line 2)",
     "output_type": "error",
     "traceback": [
      "\u001b[1;36m  File \u001b[1;32m\"<ipython-input-10-78913dc01270>\"\u001b[1;36m, line \u001b[1;32m2\u001b[0m\n\u001b[1;33m    miceTumorVol_df = combined_results_data.groupby([\"Drug\"].count(){[\"Sex\"]: [\"Male\", \"Female\"]})\u001b[0m\n\u001b[1;37m                                                                    ^\u001b[0m\n\u001b[1;31mSyntaxError\u001b[0m\u001b[1;31m:\u001b[0m invalid syntax\n"
     ]
    }
   ],
   "source": [
    "# Store the mice gender Data Grouped by Drug and Timepoint \n",
    "miceTumorVol_df = combined_results_data.groupby([\"Drug\"].count(){[\"Sex\"]: [\"Male\", \"Female\"]})\n",
    "\n",
    "#miceGender = combined_data_results\n",
    "#miceGenderPct_df = combined_results_data.groupby([\"Drug\", \"Sex\"]).\n",
    "\n",
    "# Convert to DataFrame\n",
    "#miceTumorVol_df = pd.DataFrame(miceTumorVol_df)\n",
    "\n",
    "# Preview DataFrame\n",
    "miceTumorVol_df"
   ]
  },
  {
   "cell_type": "code",
   "execution_count": null,
   "metadata": {},
   "outputs": [],
   "source": [
    "# Generate a pie plot showing the distribution of female versus male mice using pandas\n",
    "plt.title(\"Mice gender by drug\")\n",
    "plt.pie(sex, explode=explode, labels=drugs, colors=colors,\n",
    "        autopct=\"%1.1f%%\", shadow=True, startangle=90)\n",
    "plt.axis(\"equal\")\n",
    "plt.show()"
   ]
  },
  {
   "cell_type": "code",
   "execution_count": null,
   "metadata": {},
   "outputs": [],
   "source": [
    "# Tell matplotlib to create a pie chart based upon the above data\n",
    "plt.pie(pie_votes, explode=explode, labels=pies, colors=colors,\n",
    "        autopct=\"%1.1f%%\", shadow=True, startangle=140)\n",
    "# Create axes which are equal so we have a perfect circle\n",
    "plt.axis(\"equal\")\n",
    "# Save an image of our chart and print the final product to the screen\n",
    "plt.savefig(\"../Images/PyMice.png\")\n",
    "plt.show()"
   ]
  },
  {
   "cell_type": "code",
   "execution_count": null,
   "metadata": {},
   "outputs": [],
   "source": [
    "# Generate a pie plot showing the distribution of female versus male mice using pyplot"
   ]
  },
  {
   "cell_type": "markdown",
   "metadata": {},
   "source": [
    "## Quartiles, outliers and boxplots"
   ]
  },
  {
   "cell_type": "code",
   "execution_count": null,
   "metadata": {},
   "outputs": [],
   "source": [
    "# Calculate the final tumor volume of each mouse across four of the most promising treatment regimens. Calculate the IQR and quantitatively determine if there are any potential outliers. "
   ]
  },
  {
   "cell_type": "code",
   "execution_count": null,
   "metadata": {},
   "outputs": [],
   "source": [
    "# Generate a box plot of the final tumor volume of each mouse across four regimens of interest"
   ]
  },
  {
   "cell_type": "markdown",
   "metadata": {},
   "source": [
    "## Line and scatter plots"
   ]
  },
  {
   "cell_type": "code",
   "execution_count": null,
   "metadata": {},
   "outputs": [],
   "source": [
    "# Generate a line plot of time point versus tumor volume for a mouse treated with Capomulin"
   ]
  },
  {
   "cell_type": "code",
   "execution_count": null,
   "metadata": {},
   "outputs": [],
   "source": [
    "# Generate a scatter plot of mouse weight versus average tumor volume for the Capomulin regimen"
   ]
  },
  {
   "cell_type": "code",
   "execution_count": null,
   "metadata": {},
   "outputs": [],
   "source": [
    "# Calculate the correlation coefficient and linear regression model for mouse weight and average tumor volume for the Capomulin regimen"
   ]
  },
  {
   "cell_type": "code",
   "execution_count": null,
   "metadata": {},
   "outputs": [],
   "source": []
  }
 ],
 "metadata": {
  "anaconda-cloud": {},
  "kernelspec": {
   "display_name": "Python 3",
   "language": "python",
   "name": "python3"
  },
  "language_info": {
   "codemirror_mode": {
    "name": "ipython",
    "version": 3
   },
   "file_extension": ".py",
   "mimetype": "text/x-python",
   "name": "python",
   "nbconvert_exporter": "python",
   "pygments_lexer": "ipython3",
   "version": "3.7.4"
  }
 },
 "nbformat": 4,
 "nbformat_minor": 2
}
